{
 "cells": [
  {
   "cell_type": "markdown",
   "id": "6756e375-c6f1-4f43-b36e-d3510ebe7177",
   "metadata": {},
   "source": [
    "Q1. List any five functions of the pandas library with execution"
   ]
  },
  {
   "cell_type": "markdown",
   "id": "e5fed6df-705b-4d7c-8868-1cb7b0e2eae4",
   "metadata": {},
   "source": [
    "* let us taking some Functions from the pandas library with examples , "
   ]
  },
  {
   "cell_type": "markdown",
   "id": "0de5a204-d984-4d67-af11-898b09f81b87",
   "metadata": {},
   "source": [
    "* creating The DataFrame "
   ]
  },
  {
   "cell_type": "code",
   "execution_count": 6,
   "id": "5bc41517-8c82-4a8c-8696-e892d1f8404a",
   "metadata": {},
   "outputs": [],
   "source": [
    "data = {\"a\" : [1,2,3],\n",
    "       \"b\" : [4,5,6],\n",
    "       \"c\" : [7,8,9]}"
   ]
  },
  {
   "cell_type": "code",
   "execution_count": 7,
   "id": "199b1a91-91d2-496a-a624-c27ab35f4921",
   "metadata": {},
   "outputs": [],
   "source": [
    "df = pd.DataFrame(data)"
   ]
  },
  {
   "cell_type": "code",
   "execution_count": 8,
   "id": "3188f649-1b25-4023-877f-31f52e93f51e",
   "metadata": {},
   "outputs": [
    {
     "data": {
      "text/html": [
       "<div>\n",
       "<style scoped>\n",
       "    .dataframe tbody tr th:only-of-type {\n",
       "        vertical-align: middle;\n",
       "    }\n",
       "\n",
       "    .dataframe tbody tr th {\n",
       "        vertical-align: top;\n",
       "    }\n",
       "\n",
       "    .dataframe thead th {\n",
       "        text-align: right;\n",
       "    }\n",
       "</style>\n",
       "<table border=\"1\" class=\"dataframe\">\n",
       "  <thead>\n",
       "    <tr style=\"text-align: right;\">\n",
       "      <th></th>\n",
       "      <th>a</th>\n",
       "      <th>b</th>\n",
       "      <th>c</th>\n",
       "    </tr>\n",
       "  </thead>\n",
       "  <tbody>\n",
       "    <tr>\n",
       "      <th>0</th>\n",
       "      <td>1</td>\n",
       "      <td>4</td>\n",
       "      <td>7</td>\n",
       "    </tr>\n",
       "    <tr>\n",
       "      <th>1</th>\n",
       "      <td>2</td>\n",
       "      <td>5</td>\n",
       "      <td>8</td>\n",
       "    </tr>\n",
       "    <tr>\n",
       "      <th>2</th>\n",
       "      <td>3</td>\n",
       "      <td>6</td>\n",
       "      <td>9</td>\n",
       "    </tr>\n",
       "  </tbody>\n",
       "</table>\n",
       "</div>"
      ],
      "text/plain": [
       "   a  b  c\n",
       "0  1  4  7\n",
       "1  2  5  8\n",
       "2  3  6  9"
      ]
     },
     "execution_count": 8,
     "metadata": {},
     "output_type": "execute_result"
    }
   ],
   "source": [
    "df # this is the example of Creating the DataFrame . "
   ]
  },
  {
   "cell_type": "markdown",
   "id": "dd0e0abc-cee1-4f4b-86ad-23b1af6f6c4d",
   "metadata": {},
   "source": [
    "* Creating an DataFrame and our named index"
   ]
  },
  {
   "cell_type": "code",
   "execution_count": 9,
   "id": "4800f5ab-36ff-4153-ae02-f89dd136d797",
   "metadata": {},
   "outputs": [],
   "source": [
    "data1 = {\"a\" : [22,33,44],\n",
    "        \"b\" : [55,66,77] ,\n",
    "        \"c\" : [88,99,100]}"
   ]
  },
  {
   "cell_type": "code",
   "execution_count": 10,
   "id": "48176f56-871a-48f3-9342-e69b2ed09e14",
   "metadata": {},
   "outputs": [],
   "source": [
    "df1 = pd.DataFrame(data1 , index=['a','b','c'])"
   ]
  },
  {
   "cell_type": "code",
   "execution_count": 42,
   "id": "5d81f822-b34d-458e-9a59-eae215ff066a",
   "metadata": {},
   "outputs": [
    {
     "data": {
      "text/html": [
       "<div>\n",
       "<style scoped>\n",
       "    .dataframe tbody tr th:only-of-type {\n",
       "        vertical-align: middle;\n",
       "    }\n",
       "\n",
       "    .dataframe tbody tr th {\n",
       "        vertical-align: top;\n",
       "    }\n",
       "\n",
       "    .dataframe thead th {\n",
       "        text-align: right;\n",
       "    }\n",
       "</style>\n",
       "<table border=\"1\" class=\"dataframe\">\n",
       "  <thead>\n",
       "    <tr style=\"text-align: right;\">\n",
       "      <th></th>\n",
       "      <th>a</th>\n",
       "      <th>b</th>\n",
       "      <th>c</th>\n",
       "    </tr>\n",
       "  </thead>\n",
       "  <tbody>\n",
       "    <tr>\n",
       "      <th>a</th>\n",
       "      <td>22</td>\n",
       "      <td>55</td>\n",
       "      <td>88</td>\n",
       "    </tr>\n",
       "    <tr>\n",
       "      <th>b</th>\n",
       "      <td>33</td>\n",
       "      <td>66</td>\n",
       "      <td>99</td>\n",
       "    </tr>\n",
       "    <tr>\n",
       "      <th>c</th>\n",
       "      <td>44</td>\n",
       "      <td>77</td>\n",
       "      <td>100</td>\n",
       "    </tr>\n",
       "  </tbody>\n",
       "</table>\n",
       "</div>"
      ],
      "text/plain": [
       "    a   b    c\n",
       "a  22  55   88\n",
       "b  33  66   99\n",
       "c  44  77  100"
      ]
     },
     "execution_count": 42,
     "metadata": {},
     "output_type": "execute_result"
    }
   ],
   "source": [
    "df1"
   ]
  },
  {
   "cell_type": "markdown",
   "id": "ebbfec83-348b-44e2-a8c3-c53d01bb5f02",
   "metadata": {},
   "source": [
    "* If we want list of any Row & Column "
   ]
  },
  {
   "cell_type": "code",
   "execution_count": 12,
   "id": "ab0bc21d-efe4-47a6-9604-f59f18af5b26",
   "metadata": {},
   "outputs": [
    {
     "data": {
      "text/plain": [
       "[1, 2, 3]"
      ]
     },
     "execution_count": 12,
     "metadata": {},
     "output_type": "execute_result"
    }
   ],
   "source": [
    "list(data['a'])"
   ]
  },
  {
   "cell_type": "markdown",
   "id": "35c09810-0b17-4c34-9536-b941008b2bdf",
   "metadata": {},
   "source": [
    "* if we want the sum of any Row  "
   ]
  },
  {
   "cell_type": "code",
   "execution_count": 14,
   "id": "24e932c0-4a09-4dbc-91c2-343c37e89a20",
   "metadata": {},
   "outputs": [
    {
     "data": {
      "text/plain": [
       "a     99\n",
       "b    198\n",
       "c    287\n",
       "dtype: int64"
      ]
     },
     "execution_count": 14,
     "metadata": {},
     "output_type": "execute_result"
    }
   ],
   "source": [
    "def test(x):\n",
    "    return x.sum()\n",
    "df1.apply(test)    "
   ]
  },
  {
   "cell_type": "markdown",
   "id": "5b28a854-7c3b-4c2a-a53f-847b528ff682",
   "metadata": {},
   "source": [
    "* if we want the sum of the any Column"
   ]
  },
  {
   "cell_type": "code",
   "execution_count": 15,
   "id": "30c5fa8e-fd41-4ea0-b2b7-5bc251adf630",
   "metadata": {},
   "outputs": [
    {
     "data": {
      "text/plain": [
       "a    165\n",
       "b    198\n",
       "c    221\n",
       "dtype: int64"
      ]
     },
     "execution_count": 15,
     "metadata": {},
     "output_type": "execute_result"
    }
   ],
   "source": [
    "def test(x):\n",
    "    return x.sum()\n",
    "df1.apply(test , axis=1)"
   ]
  },
  {
   "cell_type": "markdown",
   "id": "99bbceaa-6196-48be-9bac-04f73a47b6cc",
   "metadata": {},
   "source": [
    "* if want the any specified Row & Column :"
   ]
  },
  {
   "cell_type": "code",
   "execution_count": 16,
   "id": "2ae28aff-a71f-459d-a5e6-67810ab531bc",
   "metadata": {},
   "outputs": [],
   "source": [
    "df2 = df1[['a' , 'b']]"
   ]
  },
  {
   "cell_type": "code",
   "execution_count": 17,
   "id": "ac764c93-5816-4c50-8ef0-444e7e17f9f4",
   "metadata": {},
   "outputs": [
    {
     "data": {
      "text/html": [
       "<div>\n",
       "<style scoped>\n",
       "    .dataframe tbody tr th:only-of-type {\n",
       "        vertical-align: middle;\n",
       "    }\n",
       "\n",
       "    .dataframe tbody tr th {\n",
       "        vertical-align: top;\n",
       "    }\n",
       "\n",
       "    .dataframe thead th {\n",
       "        text-align: right;\n",
       "    }\n",
       "</style>\n",
       "<table border=\"1\" class=\"dataframe\">\n",
       "  <thead>\n",
       "    <tr style=\"text-align: right;\">\n",
       "      <th></th>\n",
       "      <th>a</th>\n",
       "      <th>b</th>\n",
       "    </tr>\n",
       "  </thead>\n",
       "  <tbody>\n",
       "    <tr>\n",
       "      <th>a</th>\n",
       "      <td>22</td>\n",
       "      <td>55</td>\n",
       "    </tr>\n",
       "    <tr>\n",
       "      <th>b</th>\n",
       "      <td>33</td>\n",
       "      <td>66</td>\n",
       "    </tr>\n",
       "    <tr>\n",
       "      <th>c</th>\n",
       "      <td>44</td>\n",
       "      <td>77</td>\n",
       "    </tr>\n",
       "  </tbody>\n",
       "</table>\n",
       "</div>"
      ],
      "text/plain": [
       "    a   b\n",
       "a  22  55\n",
       "b  33  66\n",
       "c  44  77"
      ]
     },
     "execution_count": 17,
     "metadata": {},
     "output_type": "execute_result"
    }
   ],
   "source": [
    "df2"
   ]
  },
  {
   "cell_type": "markdown",
   "id": "58ef3079-ae5f-4072-9b21-c9377a45ad62",
   "metadata": {},
   "source": [
    "* if we want the sum of the any Row & Column "
   ]
  },
  {
   "cell_type": "code",
   "execution_count": 18,
   "id": "f71f1738-df44-42db-9715-3512757443d6",
   "metadata": {},
   "outputs": [
    {
     "data": {
      "text/html": [
       "<div>\n",
       "<style scoped>\n",
       "    .dataframe tbody tr th:only-of-type {\n",
       "        vertical-align: middle;\n",
       "    }\n",
       "\n",
       "    .dataframe tbody tr th {\n",
       "        vertical-align: top;\n",
       "    }\n",
       "\n",
       "    .dataframe thead th {\n",
       "        text-align: right;\n",
       "    }\n",
       "</style>\n",
       "<table border=\"1\" class=\"dataframe\">\n",
       "  <thead>\n",
       "    <tr style=\"text-align: right;\">\n",
       "      <th></th>\n",
       "      <th>a</th>\n",
       "      <th>b</th>\n",
       "    </tr>\n",
       "  </thead>\n",
       "  <tbody>\n",
       "    <tr>\n",
       "      <th>a</th>\n",
       "      <td>484</td>\n",
       "      <td>3025</td>\n",
       "    </tr>\n",
       "    <tr>\n",
       "      <th>b</th>\n",
       "      <td>1089</td>\n",
       "      <td>4356</td>\n",
       "    </tr>\n",
       "    <tr>\n",
       "      <th>c</th>\n",
       "      <td>1936</td>\n",
       "      <td>5929</td>\n",
       "    </tr>\n",
       "  </tbody>\n",
       "</table>\n",
       "</div>"
      ],
      "text/plain": [
       "      a     b\n",
       "a   484  3025\n",
       "b  1089  4356\n",
       "c  1936  5929"
      ]
     },
     "execution_count": 18,
     "metadata": {},
     "output_type": "execute_result"
    }
   ],
   "source": [
    "df2.applymap(lambda x : x**2)"
   ]
  },
  {
   "cell_type": "markdown",
   "id": "e05f81d3-ed28-4cb8-b525-25b64b874840",
   "metadata": {},
   "source": [
    "* if we want the sort The value "
   ]
  },
  {
   "cell_type": "code",
   "execution_count": 22,
   "id": "ec879725-a3ed-4911-9ab6-87e7d1eab625",
   "metadata": {},
   "outputs": [
    {
     "data": {
      "text/html": [
       "<div>\n",
       "<style scoped>\n",
       "    .dataframe tbody tr th:only-of-type {\n",
       "        vertical-align: middle;\n",
       "    }\n",
       "\n",
       "    .dataframe tbody tr th {\n",
       "        vertical-align: top;\n",
       "    }\n",
       "\n",
       "    .dataframe thead th {\n",
       "        text-align: right;\n",
       "    }\n",
       "</style>\n",
       "<table border=\"1\" class=\"dataframe\">\n",
       "  <thead>\n",
       "    <tr style=\"text-align: right;\">\n",
       "      <th></th>\n",
       "      <th>a</th>\n",
       "      <th>b</th>\n",
       "    </tr>\n",
       "  </thead>\n",
       "  <tbody>\n",
       "    <tr>\n",
       "      <th>a</th>\n",
       "      <td>22</td>\n",
       "      <td>55</td>\n",
       "    </tr>\n",
       "    <tr>\n",
       "      <th>b</th>\n",
       "      <td>33</td>\n",
       "      <td>66</td>\n",
       "    </tr>\n",
       "    <tr>\n",
       "      <th>c</th>\n",
       "      <td>44</td>\n",
       "      <td>77</td>\n",
       "    </tr>\n",
       "  </tbody>\n",
       "</table>\n",
       "</div>"
      ],
      "text/plain": [
       "    a   b\n",
       "a  22  55\n",
       "b  33  66\n",
       "c  44  77"
      ]
     },
     "execution_count": 22,
     "metadata": {},
     "output_type": "execute_result"
    }
   ],
   "source": [
    "df2.sort_values('b' , axis=1)"
   ]
  },
  {
   "cell_type": "markdown",
   "id": "f5e543de-b650-4e8e-9886-3a93088b13b4",
   "metadata": {},
   "source": [
    "* if we want The mean "
   ]
  },
  {
   "cell_type": "code",
   "execution_count": 26,
   "id": "1109f3b2-58e4-4a90-819b-a5c692c8f60d",
   "metadata": {},
   "outputs": [
    {
     "data": {
      "text/plain": [
       "33.0"
      ]
     },
     "execution_count": 26,
     "metadata": {},
     "output_type": "execute_result"
    }
   ],
   "source": [
    "df2['a'].mean()"
   ]
  },
  {
   "cell_type": "markdown",
   "id": "bb0a2ac1-d42f-48a1-99ad-14a91ced5d56",
   "metadata": {},
   "source": [
    "* if we want to find the median :"
   ]
  },
  {
   "cell_type": "code",
   "execution_count": 27,
   "id": "634ad0b4-f6f1-4118-87c8-0c05e20d08eb",
   "metadata": {},
   "outputs": [
    {
     "data": {
      "text/plain": [
       "66.0"
      ]
     },
     "execution_count": 27,
     "metadata": {},
     "output_type": "execute_result"
    }
   ],
   "source": [
    "df2['b'].median()"
   ]
  },
  {
   "cell_type": "markdown",
   "id": "12e536d8-184b-4660-b29d-ebae33cf7c88",
   "metadata": {},
   "source": [
    "Q2. Given a Pandas DataFrame df with columns 'A', 'B', and 'C', write a Python function to re-index the\n",
    "DataFrame with a new index that starts from 1 and increments by 2 for each row."
   ]
  },
  {
   "cell_type": "code",
   "execution_count": 28,
   "id": "2a3a0f3d-cbf6-45c4-8a8a-1ca9c19e1e8d",
   "metadata": {},
   "outputs": [],
   "source": [
    "data3 = {'Name' : ['shubham_shah' , 'ss' ,'sshubham_shah'],\n",
    "        'Age' : [19,18,17],\n",
    "        'Email-id' : ['shubhamshah8099@gmail.com' , 'xyz@gmail.com' , 'abc@gmail.com']}"
   ]
  },
  {
   "cell_type": "code",
   "execution_count": 32,
   "id": "19c1acfc-b407-40a2-8ca3-8c83598fda73",
   "metadata": {},
   "outputs": [],
   "source": [
    "df3 = pd.DataFrame(data3 , index=['A','B','C'])"
   ]
  },
  {
   "cell_type": "code",
   "execution_count": 34,
   "id": "a372b704-923a-4ba2-be5c-688aa1b0373f",
   "metadata": {},
   "outputs": [
    {
     "data": {
      "text/html": [
       "<div>\n",
       "<style scoped>\n",
       "    .dataframe tbody tr th:only-of-type {\n",
       "        vertical-align: middle;\n",
       "    }\n",
       "\n",
       "    .dataframe tbody tr th {\n",
       "        vertical-align: top;\n",
       "    }\n",
       "\n",
       "    .dataframe thead th {\n",
       "        text-align: right;\n",
       "    }\n",
       "</style>\n",
       "<table border=\"1\" class=\"dataframe\">\n",
       "  <thead>\n",
       "    <tr style=\"text-align: right;\">\n",
       "      <th></th>\n",
       "      <th>Name</th>\n",
       "      <th>Age</th>\n",
       "      <th>Email-id</th>\n",
       "    </tr>\n",
       "  </thead>\n",
       "  <tbody>\n",
       "    <tr>\n",
       "      <th>A</th>\n",
       "      <td>shubham_shah</td>\n",
       "      <td>19</td>\n",
       "      <td>shubhamshah8099@gmail.com</td>\n",
       "    </tr>\n",
       "    <tr>\n",
       "      <th>B</th>\n",
       "      <td>ss</td>\n",
       "      <td>18</td>\n",
       "      <td>xyz@gmail.com</td>\n",
       "    </tr>\n",
       "    <tr>\n",
       "      <th>C</th>\n",
       "      <td>sshubham_shah</td>\n",
       "      <td>17</td>\n",
       "      <td>abc@gmail.com</td>\n",
       "    </tr>\n",
       "  </tbody>\n",
       "</table>\n",
       "</div>"
      ],
      "text/plain": [
       "            Name  Age                   Email-id\n",
       "A   shubham_shah   19  shubhamshah8099@gmail.com\n",
       "B             ss   18              xyz@gmail.com\n",
       "C  sshubham_shah   17              abc@gmail.com"
      ]
     },
     "execution_count": 34,
     "metadata": {},
     "output_type": "execute_result"
    }
   ],
   "source": [
    "df3"
   ]
  },
  {
   "cell_type": "code",
   "execution_count": 45,
   "id": "03f90a8a-d982-4d37-9e16-145644299109",
   "metadata": {},
   "outputs": [],
   "source": [
    "# Let us we Re-index :-\n",
    "df3 = pd.DataFrame(data3 , index=[1,3,5])"
   ]
  },
  {
   "cell_type": "code",
   "execution_count": 46,
   "id": "2dcdce23-246e-4106-a9b0-4962d1c20919",
   "metadata": {},
   "outputs": [
    {
     "data": {
      "text/html": [
       "<div>\n",
       "<style scoped>\n",
       "    .dataframe tbody tr th:only-of-type {\n",
       "        vertical-align: middle;\n",
       "    }\n",
       "\n",
       "    .dataframe tbody tr th {\n",
       "        vertical-align: top;\n",
       "    }\n",
       "\n",
       "    .dataframe thead th {\n",
       "        text-align: right;\n",
       "    }\n",
       "</style>\n",
       "<table border=\"1\" class=\"dataframe\">\n",
       "  <thead>\n",
       "    <tr style=\"text-align: right;\">\n",
       "      <th></th>\n",
       "      <th>Name</th>\n",
       "      <th>Age</th>\n",
       "      <th>Email-id</th>\n",
       "    </tr>\n",
       "  </thead>\n",
       "  <tbody>\n",
       "    <tr>\n",
       "      <th>1</th>\n",
       "      <td>shubham_shah</td>\n",
       "      <td>19</td>\n",
       "      <td>shubhamshah8099@gmail.com</td>\n",
       "    </tr>\n",
       "    <tr>\n",
       "      <th>3</th>\n",
       "      <td>ss</td>\n",
       "      <td>18</td>\n",
       "      <td>xyz@gmail.com</td>\n",
       "    </tr>\n",
       "    <tr>\n",
       "      <th>5</th>\n",
       "      <td>sshubham_shah</td>\n",
       "      <td>17</td>\n",
       "      <td>abc@gmail.com</td>\n",
       "    </tr>\n",
       "  </tbody>\n",
       "</table>\n",
       "</div>"
      ],
      "text/plain": [
       "            Name  Age                   Email-id\n",
       "1   shubham_shah   19  shubhamshah8099@gmail.com\n",
       "3             ss   18              xyz@gmail.com\n",
       "5  sshubham_shah   17              abc@gmail.com"
      ]
     },
     "execution_count": 46,
     "metadata": {},
     "output_type": "execute_result"
    }
   ],
   "source": [
    "df3"
   ]
  },
  {
   "cell_type": "markdown",
   "id": "dd7a3486-d328-470b-82fd-cf17263774b5",
   "metadata": {},
   "source": [
    "Q3. You have a Pandas DataFrame df with a column named 'Values'. Write a Python function that\n",
    "iterates over the DataFrame and calculates the sum of the first three values in the 'Values' column. The\n",
    "function should print the sum to the console."
   ]
  },
  {
   "cell_type": "code",
   "execution_count": 53,
   "id": "95a49bd1-d7eb-4780-8d4b-3b85831afa53",
   "metadata": {},
   "outputs": [],
   "source": [
    "def calculate_the_sum_of_first_three_value(df):\n",
    "    values_column = df['Values']\n",
    "    sum_of_first_three_values = values_column.head(3).sum()\n",
    "    print(\"Sum of the first three values:\" , sum_of_first_three_values)"
   ]
  },
  {
   "cell_type": "code",
   "execution_count": 54,
   "id": "5d9ad207-d25b-4564-b2a2-29aabf001496",
   "metadata": {},
   "outputs": [],
   "source": [
    "data = {\"Values\" : [10,20,30,40,50]}\n",
    "df = pd.DataFrame(data)"
   ]
  },
  {
   "cell_type": "code",
   "execution_count": 57,
   "id": "9b21bb56-6d8e-4f3d-8e64-c1b841ff7d89",
   "metadata": {},
   "outputs": [
    {
     "name": "stdout",
     "output_type": "stream",
     "text": [
      "Sum of the first three values: 60\n"
     ]
    }
   ],
   "source": [
    "calculate_the_sum_of_first_three_value(df) # Calling the functions :"
   ]
  },
  {
   "cell_type": "markdown",
   "id": "7ed5b07b-ac3c-42cb-a9fc-f7c5d2f99971",
   "metadata": {},
   "source": [
    "Q4. Given a Pandas DataFrame df with a column 'Text', write a Python function to create a new column\n",
    "'Word_Count' that contains the number of words in each row of the 'Text' column."
   ]
  },
  {
   "cell_type": "code",
   "execution_count": 61,
   "id": "a20d8185-7cf1-4dbf-9dfa-b09686d99a1b",
   "metadata": {},
   "outputs": [],
   "source": [
    "def add_word_count_column(df):\n",
    "    df['Word_Count'] = df['text'].apply(lambda x: len(str(x).split()))"
   ]
  },
  {
   "cell_type": "code",
   "execution_count": 62,
   "id": "348a2098-e8eb-4830-aa96-b11650b15d51",
   "metadata": {},
   "outputs": [],
   "source": [
    "data = {'text' :[\"my name is shubham_shah\" , \"my email is shubhamshah8099\" , \"my World is SS\"]}\n",
    "df = pd.DataFrame(data)"
   ]
  },
  {
   "cell_type": "code",
   "execution_count": 63,
   "id": "e7dea52a-a3c6-4298-ab56-dff5372ed9d6",
   "metadata": {},
   "outputs": [],
   "source": [
    "add_word_count_column(df)"
   ]
  },
  {
   "cell_type": "code",
   "execution_count": 64,
   "id": "9a8992e7-a519-4e95-af91-5d05215c12f1",
   "metadata": {},
   "outputs": [
    {
     "name": "stdout",
     "output_type": "stream",
     "text": [
      "                          text  Word_Count\n",
      "0      my name is shubham_shah           4\n",
      "1  my email is shubhamshah8099           4\n",
      "2               my World is SS           4\n"
     ]
    }
   ],
   "source": [
    "print(df)"
   ]
  },
  {
   "cell_type": "markdown",
   "id": "c88ebb7c-6f5f-495a-9bd6-3b5b73d1bef3",
   "metadata": {},
   "source": [
    "Q5. How are DataFrame.size() and DataFrame.shape() different?"
   ]
  },
  {
   "cell_type": "markdown",
   "id": "2d91f3e4-8f0e-49eb-9c49-c455fa601798",
   "metadata": {},
   "source": [
    "let us taking the first DataFrame.size()\n",
    "\n",
    "* Type = Attribute\n",
    "* Return = total number of the element present in the DataFrame \n",
    "* Usage: df.size('where df i dataframe')\n",
    "\n",
    "let us taking an example of the Dataframe.size() "
   ]
  },
  {
   "cell_type": "code",
   "execution_count": 65,
   "id": "a1e3d50a-fdba-4d77-acaf-05afd41f9ad3",
   "metadata": {},
   "outputs": [],
   "source": [
    "data = {'A' : [1,2,3,4] , 'B' : [5,6,7,8]}\n",
    "df = pd.DataFrame(data)"
   ]
  },
  {
   "cell_type": "code",
   "execution_count": 67,
   "id": "4fd1cd6b-acb7-401e-9346-6e6fa00f5bce",
   "metadata": {},
   "outputs": [],
   "source": [
    "size_of_the_dataframe = df.size"
   ]
  },
  {
   "cell_type": "code",
   "execution_count": 68,
   "id": "ee6b9106-055f-4779-8f73-0a8e35bb8dd3",
   "metadata": {},
   "outputs": [
    {
     "name": "stdout",
     "output_type": "stream",
     "text": [
      "8\n"
     ]
    }
   ],
   "source": [
    "print(size_of_the_dataframe)"
   ]
  },
  {
   "cell_type": "markdown",
   "id": "7ce4d770-95b8-4936-8d89-2c37046253a4",
   "metadata": {},
   "source": [
    "now let us taking the DataFrame.shape()\n",
    "* Type = Attribute\n",
    "* Return = A tuple which is the Representing the dimension of the DataFrame \n",
    "* Usage = df.shape('where df is the DataFrame')\n",
    "\n",
    "let us taking the example of the DataFrame.shape()"
   ]
  },
  {
   "cell_type": "code",
   "execution_count": 69,
   "id": "fecc548f-9d73-4c35-9912-3dbf2bc891af",
   "metadata": {},
   "outputs": [],
   "source": [
    "data = {\"A\" : [22,33,44,55] , \"B\" : [66,77,88,99]}\n",
    "df = pd.DataFrame(data)"
   ]
  },
  {
   "cell_type": "code",
   "execution_count": 71,
   "id": "9ed529df-7d7f-46cc-aa66-2c9025d571a0",
   "metadata": {},
   "outputs": [],
   "source": [
    "shape_of_the_dataframe = df.shape"
   ]
  },
  {
   "cell_type": "code",
   "execution_count": 72,
   "id": "b54c3a8f-3496-4189-8251-251da7268578",
   "metadata": {},
   "outputs": [
    {
     "name": "stdout",
     "output_type": "stream",
     "text": [
      "(4, 2)\n"
     ]
    }
   ],
   "source": [
    "print(shape_of_the_dataframe)"
   ]
  },
  {
   "cell_type": "markdown",
   "id": "4287fcdc-dfcd-4d8d-8c06-a9f452bdd79b",
   "metadata": {},
   "source": [
    "Q6. Which function of pandas do we use to read an excel file?"
   ]
  },
  {
   "cell_type": "markdown",
   "id": "11096df0-81c8-414e-b29e-18f7b8d17314",
   "metadata": {},
   "source": [
    "ANSWER => TO READ THE EXCEL FILE FIRST WE HAVE TO INSTALL LXML LIBRARY TO READ EXCEL FILE AND\n",
    "          THEN APPLY THE FUNCTION :- pd.read_excel(file_name_here.xlsx)"
   ]
  },
  {
   "cell_type": "markdown",
   "id": "9aa4d9f7-c6aa-4776-b37a-bebbbcd32c04",
   "metadata": {},
   "source": [
    "Q7. You have a Pandas DataFrame df that contains a column named 'Email' that contains email\n",
    "addresses in the format 'username@domain.com'. Write a Python function that creates a new column\n",
    "'Username' in df that contains only the username part of each email address."
   ]
  },
  {
   "cell_type": "code",
   "execution_count": 84,
   "id": "b4779d39-fa6b-4e56-bbb5-a3ced252621b",
   "metadata": {},
   "outputs": [
    {
     "name": "stdout",
     "output_type": "stream",
     "text": [
      "                       Email     New_Username\n",
      "0  shubhamshah8099@gmail.com  shubhamshah8099\n",
      "1  sitashubham2005@gmail.com  sitashubham2005\n",
      "2           ss2006@gmail.com           ss2006\n"
     ]
    }
   ],
   "source": [
    "def extract_username(df):\n",
    "    df['New_Username'] = df['Email'].str.split('@').str.get(0)\n",
    "data = {'Email' :['shubhamshah8099@gmail.com' , 'sitashubham2005@gmail.com' , 'ss2006@gmail.com']}    \n",
    "df = pd.DataFrame(data)   \n",
    "extract_username(df)\n",
    "print(df)"
   ]
  },
  {
   "cell_type": "markdown",
   "id": "5e0de7c6-2dc6-4413-b162-ffea09ebf7ea",
   "metadata": {},
   "source": [
    "Q8. You have a Pandas DataFrame df with columns 'A', 'B', and 'C'. Write a Python function that selects\n",
    "all rows where the value in column 'A' is greater than 5 and the value in column 'B' is less than 10. The\n",
    "function should return a new DataFrame that contains only the selected rows.\n",
    "\n",
    "For example, if df contains the following values:\n",
    "\n",
    "   A   B   C\n",
    "\n",
    "0  3   5   1\n",
    "\n",
    "1  8   2   7\n",
    "\n",
    "2  6   9   4\n",
    "\n",
    "3  2   3   5\n",
    "\n",
    "4  9   1   2\n",
    "\n",
    "Your function should select the following rows\n",
    ":   A   B   C\n",
    "\n",
    "1  8   2   7\n",
    "\n",
    "4  9   1   2\n",
    "\n",
    "The function should return a new DataFrame that contains only the selected rows."
   ]
  },
  {
   "cell_type": "code",
   "execution_count": 101,
   "id": "8cb44071-7dc2-40d0-8372-70da3830f03c",
   "metadata": {},
   "outputs": [
    {
     "name": "stdout",
     "output_type": "stream",
     "text": [
      "   A  B  C\n",
      "1  8  2  7\n",
      "2  6  9  4\n",
      "4  9  1  2\n"
     ]
    }
   ],
   "source": [
    "import pandas as pd\n",
    "\n",
    "def select_rows(df):\n",
    "    \n",
    "    selected_rows = df[(df['A'] > 5) & (df['B'] < 10)]  # A is greater than 5 & B is less than 10 \n",
    "    \n",
    "    return selected_rows\n",
    "\n",
    "data = {'A': [3, 8, 6, 2, 9],\n",
    "        'B': [5, 2, 9, 3, 1],\n",
    "        'C': [1, 7, 4, 5, 2]}\n",
    "\n",
    "df = pd.DataFrame(data)\n",
    "\n",
    "selected_df = select_rows(df)\n",
    "\n",
    "\n",
    "print(selected_df)\n"
   ]
  },
  {
   "cell_type": "markdown",
   "id": "9336f6d0-6537-4162-b027-6e3fe41ab8b4",
   "metadata": {},
   "source": [
    "Q9. Given a Pandas DataFrame df with a column 'Values', write a Python function to calculate the mean,\n",
    "median, and standard deviation of the values in the 'Values' column."
   ]
  },
  {
   "cell_type": "code",
   "execution_count": 110,
   "id": "98cf66b1-1e74-4693-9e7f-7584c210eae7",
   "metadata": {},
   "outputs": [
    {
     "name": "stdout",
     "output_type": "stream",
     "text": [
      "Mean 35.0\n",
      "Median: 35.0\n",
      "Standard_deviation: 18.708286933869708\n"
     ]
    }
   ],
   "source": [
    "def calculate_statistics(df):\n",
    "    \n",
    "    mean_value = df['Values'].mean()\n",
    "    median_value = df['Values'].median()\n",
    "    std_deviation = df['Values'].std()\n",
    "    \n",
    "    print(\"Mean\",mean_value)\n",
    "    print(\"Median:\" , median_value)\n",
    "    print(\"Standard_deviation:\" , std_deviation)\n",
    "\n",
    "data = {'Values' :[10,20,30,40,50,60]}\n",
    "df = pd.DataFrame(data)\n",
    "calculate_statistics(df)"
   ]
  },
  {
   "cell_type": "markdown",
   "id": "3f8545b9-b2bb-4512-bfdb-ed952893b1fb",
   "metadata": {},
   "source": [
    "Q10. Given a Pandas DataFrame df with a column 'Sales' and a column 'Date', write a Python function to\n",
    "create a new column 'MovingAverage' that contains the moving average of the sales for the past 7 days\n",
    "for each row in the DataFrame. The moving average should be calculated using a window of size 7 and\n",
    "should include the current day."
   ]
  },
  {
   "cell_type": "code",
   "execution_count": 20,
   "id": "d730d728-cfc7-474a-a6f2-53a1589ef1a3",
   "metadata": {},
   "outputs": [],
   "source": [
    "import pandas as pd\n",
    "\n",
    "def add_moving_average(df):\n",
    "    # Convert the 'Date' column to datetime type\n",
    "    df['Date'] = pd.to_datetime(df['Date'])\n",
    "\n",
    "    # Sort the DataFrame by date\n",
    "    df = df.sort_values(by='Date')\n",
    "\n",
    "    # Set the 'Date' column as the index\n",
    "    df.set_index('Date', inplace=True)\n",
    "\n",
    "    # Calculate the moving average with a window size of 7\n",
    "    df['MovingAverage'] = df['Sales'].rolling(window=7, min_periods=1).mean()\n",
    "\n",
    "    # Reset the index\n",
    "    df.reset_index(inplace=True)\n",
    "\n",
    "    return df\n",
    "\n",
    "# Example usage:\n",
    "# Assuming df is your DataFrame with 'Sales' and 'Date' columns\n",
    "    df = pd.DataFrame({'Date': ['2023-01-01', '2023-01-02', '2023-01-03', '2023-01-04', '2023-01-05'],\n",
    "                    'Sales': [10, 15, 20, 25, 30]})\n",
    "\n",
    "# Add the 'MovingAverage' column\n",
    "    df = add_moving_average(df)\n",
    "\n",
    "# Print the updated DataFrame\n",
    "    print(df)\n"
   ]
  },
  {
   "cell_type": "code",
   "execution_count": 21,
   "id": "59ad76bf-5b00-45bb-b50b-2ae6e2393a5d",
   "metadata": {},
   "outputs": [
    {
     "name": "stdout",
     "output_type": "stream",
     "text": [
      "        Date  Sales\n",
      "0 2006-05-05     10\n",
      "1 2006-05-06     20\n",
      "2 2006-05-07     30\n",
      "3 2006-05-07     40\n"
     ]
    }
   ],
   "source": [
    "print(df)"
   ]
  },
  {
   "cell_type": "markdown",
   "id": "fef730cc-bf9a-4dc1-ab32-743d0ea3d240",
   "metadata": {},
   "source": [
    "Q11. You have a Pandas DataFrame df with a column 'Date'. Write a Python function that creates a new\n",
    "column 'Weekday' in the DataFrame. The 'Weekday' column should contain the weekday name (e.g.\n",
    "Monday, Tuesday) corresponding to each date in the 'Date' column.\n",
    "\n",
    "For example, if df contains the following values:\n",
    "\n",
    "         Date\n",
    "\n",
    "0  2023-01-01\n",
    "\n",
    "1  2023-01-02\n",
    "\n",
    "2  2023-01-03\n",
    "\n",
    "3  2023-01-04\n",
    "\n",
    "4  2023-01-05\n",
    "\n",
    "Your function should create the following DataFrame:\n",
    "\n",
    "\n",
    "         Date    Weekday\n",
    "\n",
    "0  2023-01-01    Sunday\n",
    "\n",
    "1  2023-01-02     Monday\n",
    "\n",
    "2  2023-01-03    Tuesday\n",
    "\n",
    "3  2023-01-04    Wednesday\n",
    "\n",
    "4  2023-01-05    Thursday\n",
    "\n",
    "The function should return the modified DataFrame."
   ]
  },
  {
   "cell_type": "code",
   "execution_count": 3,
   "id": "3f9e28e6-ff5c-4653-a632-f740435827a2",
   "metadata": {},
   "outputs": [
    {
     "name": "stdout",
     "output_type": "stream",
     "text": [
      "        Date    Weekday\n",
      "0 2023-01-01     Sunday\n",
      "1 2023-01-02     Monday\n",
      "2 2023-01-03    Tuesday\n",
      "3 2023-01-04  Wednesday\n",
      "4 2023-01-05   Thursday\n"
     ]
    }
   ],
   "source": [
    "def add_weekday_column(df):\n",
    "    df['Date'] = pd.to_datetime(df['Date']) # change Date column into datatime format\n",
    "    \n",
    "    df['Weekday'] = df['Date'].dt.strftime('%A') # Add new weekday column contain weekdays\n",
    "    \n",
    "    return df\n",
    "    \n",
    "data = {'Date' :['2023-01-01' ,'2023-01-02' , '2023-01-03' ,'2023-01-04' , '2023-01-05']}  \n",
    "df = pd.DataFrame(data)\n",
    "df_with_weekday = add_weekday_column(df)\n",
    "print(df_with_weekday)"
   ]
  },
  {
   "cell_type": "markdown",
   "id": "1cce0dfb-5b54-4026-a2b3-76a10d8c0c89",
   "metadata": {},
   "source": [
    "Q12. Given a Pandas DataFrame df with a column 'Date' that contains timestamps, write a Python\n",
    "function to select all rows where the date is between '2023-01-01' and '2023-01-31'."
   ]
  },
  {
   "cell_type": "code",
   "execution_count": 4,
   "id": "eaf443a7-e24d-4482-b4d4-85cc790d71ed",
   "metadata": {},
   "outputs": [
    {
     "name": "stdout",
     "output_type": "stream",
     "text": [
      "        Date\n",
      "0 2023-01-01\n",
      "1 2023-01-15\n",
      "2 2023-01-20\n"
     ]
    }
   ],
   "source": [
    "def filter_date_range(df):\n",
    "    df['Date'] = pd.to_datetime(df['Date']) # change Date column into datetime format\n",
    "    \n",
    "    # Define the Range\n",
    "    start_date = '2023-01-01'\n",
    "    end_date = '2023-01-31'\n",
    "    \n",
    "    # use boolean indexing to filter rows within the date Range \n",
    "    filtered_df = df[(df['Date']>= start_date) & (df['Date']<= end_date)]\n",
    "    \n",
    "    return filtered_df\n",
    "data = {'Date' : ['2023-01-01' , '2023-01-15' , '2023-01-20' , '2023-02-01']}\n",
    "df = pd.DataFrame(data)\n",
    "filtered_df = filter_date_range(df)\n",
    "print(filtered_df)"
   ]
  },
  {
   "cell_type": "markdown",
   "id": "309cc05b-6b7f-4484-beab-7c8a677fb657",
   "metadata": {},
   "source": [
    "Q13. To use the basic functions of pandas, what is the first and foremost necessary library that needs to\n",
    "be imported ?"
   ]
  },
  {
   "cell_type": "markdown",
   "id": "a50e5641-f4a9-449a-b2a8-73ba89159dee",
   "metadata": {},
   "source": [
    "ANSWER => TO USE THE BASIC FUNCTIONS OF PANDAS FIRSTLY WE HAVE TO IMPORT PANDAS AND THEN WE \n",
    "        CAN USE THE ALL PANDAS LIBRARAY .\n",
    "        \n",
    "  # import pandas as pd      "
   ]
  },
  {
   "cell_type": "code",
   "execution_count": null,
   "id": "c087829c-13c2-4eac-9d4a-62b1495a1ae9",
   "metadata": {},
   "outputs": [],
   "source": []
  }
 ],
 "metadata": {
  "kernelspec": {
   "display_name": "Python 3 (ipykernel)",
   "language": "python",
   "name": "python3"
  },
  "language_info": {
   "codemirror_mode": {
    "name": "ipython",
    "version": 3
   },
   "file_extension": ".py",
   "mimetype": "text/x-python",
   "name": "python",
   "nbconvert_exporter": "python",
   "pygments_lexer": "ipython3",
   "version": "3.10.8"
  }
 },
 "nbformat": 4,
 "nbformat_minor": 5
}
